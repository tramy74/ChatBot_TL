{
 "cells": [
  {
   "cell_type": "code",
   "execution_count": null,
   "metadata": {
    "vscode": {
     "languageId": "plaintext"
    }
   },
   "outputs": [],
   "source": [
    "import psycopg2\n",
    "from llama_index import VectorIndex\n",
    "from app.utils.db_utils import connect_to_db\n",
    "\n",
    "# Example usage\n",
    "conn = connect_to_db()\n",
    "\n",
    "\n",
    "# Function to save vectors\n",
    "def save_vector_to_db(document_id, document_title, document_content, embedding_vector):\n",
    "    conn = connect_to_db()\n",
    "    cursor = conn.cursor()\n",
    "    cursor.execute(\"\"\"\n",
    "        INSERT INTO document_vectors (document_id, document_title, document_content, embedding)\n",
    "        VALUES (%s, %s, %s, %s)\n",
    "    \"\"\", (document_id, document_title, document_content, embedding_vector))\n",
    "    conn.commit()\n",
    "    cursor.close()\n",
    "    conn.close()\n",
    "\n",
    "# Example Usage: Generating embeddings and saving them\n",
    "def process_and_save_document(document_text, document_title):\n",
    "    # Assuming you have a method in LlamaIndex to generate an embedding\n",
    "    index = VectorIndex.from_documents([document_text])\n",
    "    embedding = index.get_embedding()  # Replace with actual method to get embedding from LlamaIndex\n",
    "    \n",
    "    # Save to database\n",
    "    save_vector_to_db(None, document_title, document_text, embedding)\n"
   ]
  }
 ],
 "metadata": {
  "language_info": {
   "name": "python"
  }
 },
 "nbformat": 4,
 "nbformat_minor": 2
}
